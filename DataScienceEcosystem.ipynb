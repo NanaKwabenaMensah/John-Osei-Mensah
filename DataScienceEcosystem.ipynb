{
 "cells": [
  {
   "cell_type": "markdown",
   "id": "98d61359-8865-480c-9276-97e6f4fab1af",
   "metadata": {},
   "source": [
    "# Data Science Tools and Ecosystem"
   ]
  },
  {
   "cell_type": "markdown",
   "id": "f716ef82-6fd1-4823-8962-7b90b365ffd0",
   "metadata": {},
   "source": [
    "In this notebook, Data Science Tools and Ecosystem are summarized."
   ]
  },
  {
   "cell_type": "markdown",
   "id": "f213d249-f89b-4a96-a362-3f8e9840b6b9",
   "metadata": {},
   "source": [
    "**Objectives**:\n",
    " -     Create a Jupyter Notebook with markdown and code cells\n",
    " -     List examples of languages, libraries and tools used in Data Science\n",
    " -     Share your Jupyter Notebook publicly on GitHub\n",
    " -     Evaluate notebooks submitted by your peers using the provided rubric\n",
    " -     Demonstrate proficiency in Data Science toolkit knowledge"
   ]
  },
  {
   "cell_type": "markdown",
   "id": "83aaa23e-ecad-4035-a120-aeec4e6522ce",
   "metadata": {
    "tags": []
   },
   "source": [
    "Some of the popular languages that Data Scientists use are:\n",
    " 1. Python \n",
    " 2. R\n",
    " 3. SQL\n",
    " 4. Javascript\n",
    " 5. Scala"
   ]
  },
  {
   "cell_type": "markdown",
   "id": "ce1e0d49-fba6-4182-bdfb-8618289ba2de",
   "metadata": {},
   "source": [
    "Some of the commonly used libraries used by Data Scientists include:\n",
    "1.  TensorFlow\n",
    "2.  PyTorch\n",
    "3.  SciKit-Learn\n",
    "4.  Matplotlib\n",
    "5.  NumPy"
   ]
  },
  {
   "cell_type": "markdown",
   "id": "edb2ec87-4131-4581-b61e-7f2def07dc8b",
   "metadata": {},
   "source": [
    "|  Data Science Tools |\n",
    "| ----|\n",
    "|  Apache Spark |\n",
    "|  Hadoop |\n",
    "| Jupyeter Notebook |\n"
   ]
  },
  {
   "cell_type": "markdown",
   "id": "84699f88-dc22-4323-af06-18ba76f444be",
   "metadata": {},
   "source": [
    "### Below are a few examples of evaluating arithmetic expressions in Python"
   ]
  },
  {
   "cell_type": "code",
   "execution_count": 12,
   "id": "7cbf4d27-67a8-48b5-8174-29fc58c2b2aa",
   "metadata": {
    "tags": []
   },
   "outputs": [
    {
     "data": {
      "text/plain": [
       "17"
      ]
     },
     "execution_count": 12,
     "metadata": {},
     "output_type": "execute_result"
    }
   ],
   "source": [
    "#This a simple arithmetic expression to mutiply then add integers\n",
    "(3*4)+5"
   ]
  },
  {
   "cell_type": "code",
   "execution_count": 14,
   "id": "fd0fd502-5a33-4471-9ccd-fb7e41b851c7",
   "metadata": {
    "tags": []
   },
   "outputs": [
    {
     "data": {
      "text/plain": [
       "3.3333333333333335"
      ]
     },
     "execution_count": 14,
     "metadata": {},
     "output_type": "execute_result"
    }
   ],
   "source": [
    "#This will convert 200 minutes to hours by diving by 60\n",
    "200/60"
   ]
  },
  {
   "cell_type": "markdown",
   "id": "4d1fe6e9-ca7b-4efc-b404-17605737ef16",
   "metadata": {},
   "source": [
    "## Author\n",
    "John Osei Mensah"
   ]
  }
 ],
 "metadata": {
  "kernelspec": {
   "display_name": "Python",
   "language": "python",
   "name": "conda-env-python-py"
  },
  "language_info": {
   "codemirror_mode": {
    "name": "ipython",
    "version": 3
   },
   "file_extension": ".py",
   "mimetype": "text/x-python",
   "name": "python",
   "nbconvert_exporter": "python",
   "pygments_lexer": "ipython3",
   "version": "3.7.12"
  }
 },
 "nbformat": 4,
 "nbformat_minor": 5
}
